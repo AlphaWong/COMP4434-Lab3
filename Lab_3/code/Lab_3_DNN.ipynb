{
 "cells": [
  {
   "cell_type": "markdown",
   "metadata": {
    "collapsed": true
   },
   "source": [
    "# Deep Neural Network"
   ]
  },
  {
   "cell_type": "code",
   "execution_count": null,
   "metadata": {
    "collapsed": true
   },
   "outputs": [],
   "source": [
    "### import libraries ###\n",
    "import tensorflow as tf\n",
    "import numpy as np\n",
    "import pandas as pd"
   ]
  },
  {
   "cell_type": "markdown",
   "metadata": {},
   "source": [
    "Training data preparation"
   ]
  },
  {
   "cell_type": "code",
   "execution_count": null,
   "metadata": {
    "collapsed": true
   },
   "outputs": [],
   "source": [
    "## Construct the training set\n",
    "## Read the Online_Courses_training.csv as Train\n",
    "Train = 'Please fill in the missing code'\n",
    "\n",
    "## Create a float32 array for Train.\n",
    "Train = 'Please fill in the missing code'\n",
    "\n",
    "## Extract the training features from Train as x_train\n",
    "x_train = Train['Please fill in the missing code']\n",
    "## Extract the training labels from Train as y_train\n",
    "y_train = Train['Please fill in the missing code']\n"
   ]
  },
  {
   "cell_type": "markdown",
   "metadata": {},
   "source": [
    "Testing data preparation"
   ]
  },
  {
   "cell_type": "code",
   "execution_count": null,
   "metadata": {
    "collapsed": true
   },
   "outputs": [],
   "source": [
    "## Construct the testing set\n",
    "## Read the loan_status_testing.csv as Test\n",
    "Test = 'Please fill in the missing code'\n",
    "\n",
    "## Create a float32 array for Test.\n",
    "Test = 'Please fill in the missing code'\n",
    "\n",
    "## Extract the testing features from Test as x_test\n",
    "x_test = 'Please fill in the missing code'\n",
    "## Extract the testing labels from Test as y_test\n",
    "y_test = 'Please fill in the missing code'\n"
   ]
  },
  {
   "cell_type": "markdown",
   "metadata": {},
   "source": [
    "Construct the graph of DNN"
   ]
  },
  {
   "cell_type": "code",
   "execution_count": null,
   "metadata": {
    "collapsed": true
   },
   "outputs": [],
   "source": [
    "## Specify that all features have real-value data\n",
    "feature_columns = [tf.contrib.layers.real_valued_column(\"\", dimension = len(Train[0]) - 1)]\n",
    "\n",
    "## Build 3 layer DNN with 20, 20, 10 units respectively using tf.contrib.learn\n",
    "classifier = 'Please fill in the missing code'\n"
   ]
  },
  {
   "cell_type": "markdown",
   "metadata": {},
   "source": [
    "# Training DNN model"
   ]
  },
  {
   "cell_type": "code",
   "execution_count": null,
   "metadata": {
    "collapsed": true
   },
   "outputs": [],
   "source": [
    "## Fit the DNN model using training data and labels\n",
    "'Please fill in the missing code'"
   ]
  },
  {
   "cell_type": "markdown",
   "metadata": {},
   "source": [
    "# Prediction"
   ]
  },
  {
   "cell_type": "code",
   "execution_count": null,
   "metadata": {
    "collapsed": true
   },
   "outputs": [],
   "source": [
    "# Prediction\n",
    "## Use the test data and ground truth labels to test the classifier\n",
    "accuracy_score = 'Please fill in the missing code'\n",
    "print('Accuracy: {0:f}'.format(accuracy_score))"
   ]
  }
 ],
 "metadata": {
  "kernelspec": {
   "display_name": "Python 3",
   "language": "python",
   "name": "python3"
  },
  "language_info": {
   "codemirror_mode": {
    "name": "ipython",
    "version": 3
   },
   "file_extension": ".py",
   "mimetype": "text/x-python",
   "name": "python",
   "nbconvert_exporter": "python",
   "pygments_lexer": "ipython3",
   "version": "3.5.4"
  }
 },
 "nbformat": 4,
 "nbformat_minor": 2
}
